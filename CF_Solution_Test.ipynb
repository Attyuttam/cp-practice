{
 "cells": [
  {
   "cell_type": "code",
   "execution_count": 102,
   "id": "bcc7d86e-3432-4330-b294-f1e4f3b65fd2",
   "metadata": {},
   "outputs": [
    {
     "name": "stdout",
     "output_type": "stream",
     "text": [
      "18\n"
     ]
    }
   ],
   "source": [
    "from io import StringIO\n",
    "import sys\n",
    "\n",
    "# Sample input you want to test (as it would appear in stdin)\n",
    "test_input = \"\"\"zeus\n",
    "\"\"\"\n",
    "\n",
    "# Backup the real stdin\n",
    "original_stdin = sys.stdin\n",
    "\n",
    "# Replace stdin with your test input\n",
    "sys.stdin = StringIO(test_input)\n",
    "\n",
    "# Now run your function\n",
    "def solution(s):\n",
    "    if len(s) == 1:\n",
    "        return 0\n",
    "    i = 1\n",
    "    sum = 0\n",
    "    while i<len(s):\n",
    "        c2 = ord(s[i])-65\n",
    "        c1 = ord(s[i-1])-65\n",
    "        \n",
    "        if c1 > c2:\n",
    "            t = c1\n",
    "            c1 = c2\n",
    "            c2 = t\n",
    "        #c2 is always greater\n",
    "        \n",
    "        if c2 - c1 > 13:\n",
    "            sum+=(25 - c2 + c1 + 1)\n",
    "        else:\n",
    "            sum+=(c2-c1)\n",
    "        i+=1\n",
    "    return sum\n",
    "\n",
    "def main():\n",
    "    import sys\n",
    "    input = sys.stdin.read\n",
    "    lines = input().strip().splitlines()\n",
    "\n",
    "    s = lines[0]\n",
    "    s = 'a'+s if s[0] != 'a' else s\n",
    "    result = solution(s)\n",
    "    print(result)\n",
    "\n",
    "if __name__ == \"__main__\":\n",
    "    main()\n",
    "\n",
    "# Restore the original stdin\n",
    "sys.stdin = original_stdin\n"
   ]
  }
 ],
 "metadata": {
  "kernelspec": {
   "display_name": "Python 3 (ipykernel)",
   "language": "python",
   "name": "python3"
  },
  "language_info": {
   "codemirror_mode": {
    "name": "ipython",
    "version": 3
   },
   "file_extension": ".py",
   "mimetype": "text/x-python",
   "name": "python",
   "nbconvert_exporter": "python",
   "pygments_lexer": "ipython3",
   "version": "3.12.4"
  }
 },
 "nbformat": 4,
 "nbformat_minor": 5
}
