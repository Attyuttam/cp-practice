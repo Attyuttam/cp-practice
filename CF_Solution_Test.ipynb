{
 "cells": [
  {
   "cell_type": "code",
   "execution_count": 28,
   "id": "bcc7d86e-3432-4330-b294-f1e4f3b65fd2",
   "metadata": {},
   "outputs": [
    {
     "name": "stdout",
     "output_type": "stream",
     "text": [
      "3\n"
     ]
    }
   ],
   "source": [
    "from collections import Counter\n",
    "\n",
    "def solution(mat):\n",
    "    x,y = 0,0\n",
    "    for i in range(0,5):\n",
    "        flag = 0\n",
    "        for j in range(0,5):\n",
    "            if mat[i][j] == 1:\n",
    "                x = i\n",
    "                j = j\n",
    "                flag = 1\n",
    "                break\n",
    "                \n",
    "        if flag == 1:\n",
    "            break\n",
    "    \n",
    "    return abs(2-x) + abs(2-y)\n",
    "\n",
    "# ----------------------------\n",
    "# 🔽 Simulated input for testing\n",
    "input_str = \"\"\"\n",
    "0 0 0 0 0\n",
    "0 0 0 0 1\n",
    "0 0 0 0 0\n",
    "0 0 0 0 0\n",
    "0 0 0 0 0\"\"\"\n",
    "\n",
    "# 🔄 Simulate input split\n",
    "lines = input_str.strip().split('\\n')\n",
    "matrix = [list(map(int, line.split())) for line in lines[0:]]\n",
    "\n",
    "# ✅ Run your logic\n",
    "print(solution(matrix))  # Expected output: 2\n"
   ]
  }
 ],
 "metadata": {
  "kernelspec": {
   "display_name": "Python 3 (ipykernel)",
   "language": "python",
   "name": "python3"
  },
  "language_info": {
   "codemirror_mode": {
    "name": "ipython",
    "version": 3
   },
   "file_extension": ".py",
   "mimetype": "text/x-python",
   "name": "python",
   "nbconvert_exporter": "python",
   "pygments_lexer": "ipython3",
   "version": "3.12.4"
  }
 },
 "nbformat": 4,
 "nbformat_minor": 5
}
