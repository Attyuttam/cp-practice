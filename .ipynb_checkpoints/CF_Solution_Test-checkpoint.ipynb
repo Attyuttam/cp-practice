{
 "cells": [
  {
   "cell_type": "code",
   "execution_count": 73,
   "id": "bcc7d86e-3432-4330-b294-f1e4f3b65fd2",
   "metadata": {},
   "outputs": [
    {
     "ename": "TabError",
     "evalue": "inconsistent use of tabs and spaces in indentation (<string>, line 26)",
     "output_type": "error",
     "traceback": [
      "\u001b[1;36m  File \u001b[1;32m<string>:26\u001b[1;36m\u001b[0m\n\u001b[1;33m    print(result)\u001b[0m\n\u001b[1;37m                 ^\u001b[0m\n\u001b[1;31mTabError\u001b[0m\u001b[1;31m:\u001b[0m inconsistent use of tabs and spaces in indentation\n"
     ]
    }
   ],
   "source": [
    "from collections import Counter\n",
    "\n",
    "def solution(n, str):\n",
    "    c = 0\n",
    "    i = 0\n",
    "    j = 1\n",
    "    \n",
    "    while j<n and i<=j:\n",
    "        if str[i] == str[j]:\n",
    "            c+=1\n",
    "            j+=1\n",
    "        else:\n",
    "            i = j\n",
    "            j += 1\n",
    "    return c  \n",
    "\n",
    "def main():\n",
    "    import sys\n",
    "    input = sys.stdin.read\n",
    "    data = input().split()\n",
    "\n",
    "    n = 5\n",
    "    str = 'RRRRR'\n",
    "\n",
    "    result = solution(n,str)\n",
    "\tprint(result)\n",
    "    \n",
    "if __name__ == \"__main__\":\n",
    "    main()\n"
   ]
  }
 ],
 "metadata": {
  "kernelspec": {
   "display_name": "Python 3 (ipykernel)",
   "language": "python",
   "name": "python3"
  },
  "language_info": {
   "codemirror_mode": {
    "name": "ipython",
    "version": 3
   },
   "file_extension": ".py",
   "mimetype": "text/x-python",
   "name": "python",
   "nbconvert_exporter": "python",
   "pygments_lexer": "ipython3",
   "version": "3.12.4"
  }
 },
 "nbformat": 4,
 "nbformat_minor": 5
}
