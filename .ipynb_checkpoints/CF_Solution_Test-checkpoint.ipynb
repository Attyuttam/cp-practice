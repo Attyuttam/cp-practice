{
 "cells": [
  {
   "cell_type": "code",
   "execution_count": 235,
   "id": "0c48e97c-5626-4ec7-ba27-51eb603c3293",
   "metadata": {},
   "outputs": [
    {
     "name": "stdout",
     "output_type": "stream",
     "text": [
      "2\n",
      "0\n",
      "3\n",
      "1\n",
      "2\n"
     ]
    }
   ],
   "source": [
    "from io import StringIO\n",
    "import sys\n",
    "\n",
    "# Sample test input (as you'd give to stdin)\n",
    "# Example: 2 test cases\n",
    "test_input = \"\"\"5\n",
    "9\n",
    "42\n",
    "13\n",
    "100\n",
    "111\n",
    "\n",
    "\"\"\"\n",
    "\n",
    "# Backup original stdin\n",
    "original_stdin = sys.stdin\n",
    "\n",
    "# Replace stdin with test_input\n",
    "sys.stdin = StringIO(test_input)\n",
    "def solution(n):\n",
    "    c = 0\n",
    "    while n>=10:\n",
    "        c+=1\n",
    "        n = n//10\n",
    "    \n",
    "    return c*9 + n\n",
    "    \n",
    "def main():\n",
    "    import sys\n",
    "    input = sys.stdin.read\n",
    "    lines = input().strip().splitlines()\n",
    "\n",
    "    t = int(lines[0])\n",
    "    \n",
    "    i = 1\n",
    "    for _ in range(t):\n",
    "        n = int(lines[i])\n",
    "        print(solution(n))\n",
    "        i+=1\n",
    "\n",
    "if __name__ == \"__main__\":\n",
    "    main()\n",
    "# Restore original stdin (optional in Jupyter, but good practice)\n",
    "sys.stdin = original_stdin\n"
   ]
  },
  {
   "cell_type": "code",
   "execution_count": null,
   "id": "90089921-e875-4fa4-9f41-44af2d416925",
   "metadata": {},
   "outputs": [],
   "source": []
  }
 ],
 "metadata": {
  "kernelspec": {
   "display_name": "Python 3 (ipykernel)",
   "language": "python",
   "name": "python3"
  },
  "language_info": {
   "codemirror_mode": {
    "name": "ipython",
    "version": 3
   },
   "file_extension": ".py",
   "mimetype": "text/x-python",
   "name": "python",
   "nbconvert_exporter": "python",
   "pygments_lexer": "ipython3",
   "version": "3.12.4"
  }
 },
 "nbformat": 4,
 "nbformat_minor": 5
}
