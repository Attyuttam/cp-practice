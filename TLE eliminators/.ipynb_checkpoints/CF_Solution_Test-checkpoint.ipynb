{
 "cells": [
  {
   "cell_type": "code",
   "execution_count": 6,
   "id": "0c48e97c-5626-4ec7-ba27-51eb603c3293",
   "metadata": {},
   "outputs": [
    {
     "name": "stdout",
     "output_type": "stream",
     "text": [
      "9\n",
      "21\n"
     ]
    }
   ],
   "source": [
    "from io import StringIO\n",
    "import sys\n",
    "\n",
    "# Sample test input (as you'd give to stdin)\n",
    "# Example: 2 test cases\n",
    "test_input = \"\"\"2\n",
    "5 3 3\n",
    "1 1 7\n",
    "7 1 5\n",
    "6 5 8 2 1\n",
    "\n",
    "\n",
    "\n",
    "\n",
    "\n",
    "\"\"\"\n",
    "\n",
    "# Backup original stdin\n",
    "original_stdin = sys.stdin\n",
    "\n",
    "# Replace stdin with test_input\n",
    "sys.stdin = StringIO(test_input)\n",
    "def solution(a,b,n,arr):\n",
    "    t=0\n",
    "    c=b\n",
    "    i=0\n",
    "    while c>0 and i<n:\n",
    "        t+=1\n",
    "        if c==1:\n",
    "            taken = False\n",
    "            while i<n and c+arr[i]<a:\n",
    "                taken = True\n",
    "                c+=arr[i]\n",
    "                i+=1\n",
    "            if not taken:\n",
    "                c=a\n",
    "                i+=1\n",
    "        else:\n",
    "            t=t+(c-1)-1\n",
    "            c=2\n",
    "        c-=1\n",
    "    return t+c\n",
    "def main():\n",
    "    import sys\n",
    "    input = sys.stdin.read\n",
    "    lines = input().strip().splitlines()\n",
    "\n",
    "    t = int(lines[0])\n",
    "    \n",
    "    i = 1\n",
    "    for _ in range(t):\n",
    "        a,b,n = map(int,lines[i].split())\n",
    "        arr = [int(c) for c in lines[i+1].split()]\n",
    "        print(solution(a,b,n,arr))\n",
    "        i += 2\n",
    "\n",
    "if __name__ == \"__main__\":\n",
    "    main()\n",
    "# Restore original stdin (optional in Jupyter, but good practice)\n",
    "sys.stdin = original_stdin\n"
   ]
  },
  {
   "cell_type": "code",
   "execution_count": null,
   "id": "90089921-e875-4fa4-9f41-44af2d416925",
   "metadata": {},
   "outputs": [],
   "source": []
  }
 ],
 "metadata": {
  "kernelspec": {
   "display_name": "Python 3 (ipykernel)",
   "language": "python",
   "name": "python3"
  },
  "language_info": {
   "codemirror_mode": {
    "name": "ipython",
    "version": 3
   },
   "file_extension": ".py",
   "mimetype": "text/x-python",
   "name": "python",
   "nbconvert_exporter": "python",
   "pygments_lexer": "ipython3",
   "version": "3.12.4"
  }
 },
 "nbformat": 4,
 "nbformat_minor": 5
}
